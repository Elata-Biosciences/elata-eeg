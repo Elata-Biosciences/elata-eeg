{
 "cells": [
  {
   "cell_type": "code",
   "execution_count": 1,
   "id": "4c902a56",
   "metadata": {},
   "outputs": [],
   "source": [
    "%load_ext autoreload\n",
    "%autoreload 2\n",
    "\n"
   ]
  },
  {
   "cell_type": "code",
   "execution_count": null,
   "id": "043eccd2",
   "metadata": {},
   "outputs": [
    {
     "name": "stdout",
     "output_type": "stream",
     "text": [
      "Creating case model...\n",
      "Exporting case to /Users/nickgeoca/workspace/elata-eeg/case/pi5_touchscreen_case.stl and /Users/nickgeoca/workspace/elata-eeg/case/pi5_touchscreen_case.step\n",
      "Export successful.\n",
      "External Dimensions (WxDxH): 219.11 x 85.93 x 17.00 mm\n",
      "Internal Dimensions (WxDxH): 215.11 x 81.93 x 15.00 mm\n",
      "cq-editor not found, skipping visualization.\n",
      "None\n"
     ]
    }
   ],
   "source": [
    "import case\n",
    "\n",
    "abc=case.main()"
   ]
  },
  {
   "cell_type": "code",
   "execution_count": null,
   "id": "2993c175",
   "metadata": {},
   "outputs": [
    {
     "data": {
      "text/plain": [
       "'\\nTouch screen back\\nDimension\\tValue (mm)\\nBoard Width\\t121.11\\nMounting Hole X\\t15.00 mm from each side (→ spacing = 58.00 mm)\\nBoard Height\\t77.93\\nTop Mount Y\\t2.43 from top edge\\nBottom Mount Y\\t16.50 from bottom edge\\nHole Vertical Spacing\\t67.93 mm\\nRight Component Height\\t46.01 mm from top\\nBottom Right Mount X\\t13.48 mm from right edge\\n\\nTocuh screen front\\nLabel\\tDimension (mm)\\tMeaning / Notes\\nLens OD (Outer Dimension)\\t120.5 ± 0.1 (W) × 75.65 ± 0.1 (H)\\tOuter glass edge of the display\\nLens VA (Viewable Area)\\t109.20 ± 0.2 (W) × 66.05 ± 0.2 (H)\\tActual visible screen region\\nOverall Width\\t121.11\\tBoard edge-to-edge (confirmed from rear view too)\\nOverall Height\\t77.93\\tSame as rear view\\nTop Border Thickness\\t2.70\\tDistance from top board edge to top of lens OD\\nBottom Border Thickness\\t6.90\\tDistance from bottom board edge to bottom of lens OD\\nLeft Border Thickness\\t4.00\\tFrom left PCB edge to start of visible area\\nRight Border Thickness\\t5.65\\tFrom right PCB edge to start of visible area\\nLens Corner Radius\\tR0.15 (×4)\\tRounded glass corners — very slight\\nNotes\\nPi 5\\nBoard: 85 mm x 49 mm\\nMounting hole spacing: 58 mm x 49 mm (M2.5)\\nMounting: screwed to base\\nLocation: Left side of base\\n\\nADS1299 EVM\\n\\n'"
      ]
     },
     "execution_count": 8,
     "metadata": {},
     "output_type": "execute_result"
    }
   ],
   "source": [
    "'''\n",
    "Touch screen back\n",
    "Dimension\tValue (mm)\n",
    "Board Width\t121.11\n",
    "Mounting Hole X\t15.00 mm from each side (→ spacing = 58.00 mm)\n",
    "Board Height\t77.93\n",
    "Top Mount Y\t2.43 from top edge\n",
    "Bottom Mount Y\t16.50 from bottom edge\n",
    "Hole Vertical Spacing\t67.93 mm\n",
    "Right Component Height\t46.01 mm from top\n",
    "Bottom Right Mount X\t13.48 mm from right edge\n",
    "\n",
    "Tocuh screen front\n",
    "Label\tDimension (mm)\tMeaning / Notes\n",
    "Lens OD (Outer Dimension)\t120.5 ± 0.1 (W) × 75.65 ± 0.1 (H)\tOuter glass edge of the display\n",
    "Lens VA (Viewable Area)\t109.20 ± 0.2 (W) × 66.05 ± 0.2 (H)\tActual visible screen region\n",
    "Overall Width\t121.11\tBoard edge-to-edge (confirmed from rear view too)\n",
    "Overall Height\t77.93\tSame as rear view\n",
    "Top Border Thickness\t2.70\tDistance from top board edge to top of lens OD\n",
    "Bottom Border Thickness\t6.90\tDistance from bottom board edge to bottom of lens OD\n",
    "Left Border Thickness\t4.00\tFrom left PCB edge to start of visible area\n",
    "Right Border Thickness\t5.65\tFrom right PCB edge to start of visible area\n",
    "Lens Corner Radius\tR0.15 (×4)\tRounded glass corners — very slight\n",
    "Notes\n",
    " If you're making a screen window or cutout:\n",
    "    Cutout = 109.2 mm × 66.05 mm (VA), plus clearance (~0.5 mm margin each side).\n",
    "    You can undercut the case to have the lens sit flush or slightly recessed.\n",
    "    Use the OD (120.5 × 75.65) if you're designing a snap-fit bezel frame around the glass.\n",
    "📐 If the screen mounts behind a case wall:\n",
    "    Design a hole just big enough for the VA or slightly larger.\n",
    "    Keep lens OD in mind to avoid blocking it with your case edge.\n",
    "⚠️ Special consideration:\n",
    "    Bottom notch cutout (around ~6.9 mm deep) — unclear what this is for (possibly FPC or connector).\n",
    "    If it's a touchscreen, leave the touchable area unobstructed.\n",
    "\n",
    "Touch screen side\n",
    "Component\tThickness (mm)\tNotes\n",
    "PET Lens\t0.25 ± 0.05\tOuter transparent plastic layer\n",
    "SCA (adhesive)\t0.20\tOptical adhesive layer\n",
    "Glass Sensor\t0.70 ± 0.05\tCapacitive touch panel\n",
    "TFT Screen\t3.00\tDisplay proper\n",
    "Paste (gap/pad)\t1.50\tInterface or adhesive to PCB\n",
    "PCB Thickness\t1.60\tTypical board\n",
    "Mounting Nut\t4.00\tSpacer for mounting under PCB\n",
    "Total Depth\t11.70 mm\tConfirmed overall depth\n",
    "Notes\n",
    "The glass surface sits at the very front, so design your front panel or bezel to just clear that.\n",
    "Total thickness: 12 mm clearance is safe.\n",
    "If the screen is flush-mounted:\n",
    "    Recess: ~0.5 mm below PET surface (for safety)\n",
    "    Cutout: matches lens VA or OD\n",
    "If rear-mounted behind a frame:\n",
    "    Cutout in case wall = 109.2 × 66.05 mm\n",
    "    Depth inset = up to 11.7 mm\n",
    "Back side (PCB + nut) = needs at least 5.6 mm behind glass\n",
    "\n",
    "\n",
    "Pi 5\n",
    "Board: 85 mm x 49 mm\n",
    "Mounting hole spacing: 58 mm x 49 mm (M2.5)\n",
    "Mounting: screwed to base\n",
    "Location: Left side of base\n",
    "\n",
    "ADS1299 EVM\n",
    "\n",
    "'''"
   ]
  },
  {
   "cell_type": "code",
   "execution_count": null,
   "id": "ac576910",
   "metadata": {},
   "outputs": [],
   "source": []
  }
 ],
 "metadata": {
  "kernelspec": {
   "display_name": "Python 3 (ipykernel)",
   "language": "python",
   "name": "python3"
  },
  "language_info": {
   "codemirror_mode": {
    "name": "ipython",
    "version": 3
   },
   "file_extension": ".py",
   "mimetype": "text/x-python",
   "name": "python",
   "nbconvert_exporter": "python",
   "pygments_lexer": "ipython3",
   "version": "3.9.18"
  }
 },
 "nbformat": 4,
 "nbformat_minor": 5
}
